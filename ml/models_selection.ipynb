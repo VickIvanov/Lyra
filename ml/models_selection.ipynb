{
 "cells": [
  {
   "cell_type": "code",
   "execution_count": 69,
   "metadata": {},
   "outputs": [],
   "source": [
    "import pandas as pd\n",
    "from sklearn.ensemble import GradientBoostingClassifier\n",
    "from sklearn.model_selection import train_test_split"
   ]
  },
  {
   "cell_type": "code",
   "execution_count": 9,
   "metadata": {},
   "outputs": [],
   "source": [
    "X = pd.read_csv('data/X.csv')\n",
    "y = pd.read_csv('data/y.csv', index_col = 0)"
   ]
  },
  {
   "cell_type": "code",
   "execution_count": 10,
   "metadata": {},
   "outputs": [
    {
     "data": {
      "text/html": [
       "<div>\n",
       "<style scoped>\n",
       "    .dataframe tbody tr th:only-of-type {\n",
       "        vertical-align: middle;\n",
       "    }\n",
       "\n",
       "    .dataframe tbody tr th {\n",
       "        vertical-align: top;\n",
       "    }\n",
       "\n",
       "    .dataframe thead th {\n",
       "        text-align: right;\n",
       "    }\n",
       "</style>\n",
       "<table border=\"1\" class=\"dataframe\">\n",
       "  <thead>\n",
       "    <tr style=\"text-align: right;\">\n",
       "      <th></th>\n",
       "      <th></th>\n",
       "      <th>cnt_zp_1m</th>\n",
       "      <th>cnt_zp_3m</th>\n",
       "      <th>cnt_zp_6m</th>\n",
       "      <th>cnt_zp_12m</th>\n",
       "      <th>downlimit_count</th>\n",
       "      <th>uplimit_count</th>\n",
       "      <th>limit_exchange_count</th>\n",
       "      <th>cur_credit_limit</th>\n",
       "      <th>cur_cr_lim_month</th>\n",
       "      <th>prev_credit_limit</th>\n",
       "      <th>...</th>\n",
       "      <th>curdel_30plus_bki</th>\n",
       "      <th>curdel_60plus_bank</th>\n",
       "      <th>curdel_60plus_bki</th>\n",
       "      <th>curdel_tech_bank</th>\n",
       "      <th>curdel_tech_bki</th>\n",
       "      <th>bank_1_29_5y_debtor</th>\n",
       "      <th>bank_30_59_5y_debtor</th>\n",
       "      <th>bank_60_89_5y_debtor</th>\n",
       "      <th>bank_90_119_5y_debtor</th>\n",
       "      <th>bank_120plus_5y_debtor</th>\n",
       "    </tr>\n",
       "    <tr>\n",
       "      <th>client_id</th>\n",
       "      <th>report_date</th>\n",
       "      <th></th>\n",
       "      <th></th>\n",
       "      <th></th>\n",
       "      <th></th>\n",
       "      <th></th>\n",
       "      <th></th>\n",
       "      <th></th>\n",
       "      <th></th>\n",
       "      <th></th>\n",
       "      <th></th>\n",
       "      <th></th>\n",
       "      <th></th>\n",
       "      <th></th>\n",
       "      <th></th>\n",
       "      <th></th>\n",
       "      <th></th>\n",
       "      <th></th>\n",
       "      <th></th>\n",
       "      <th></th>\n",
       "      <th></th>\n",
       "      <th></th>\n",
       "    </tr>\n",
       "  </thead>\n",
       "  <tbody>\n",
       "    <tr>\n",
       "      <th rowspan=\"5\" valign=\"top\">0</th>\n",
       "      <th>2019-09-01 00:00:00</th>\n",
       "      <td>1.0</td>\n",
       "      <td>1.0</td>\n",
       "      <td>1.0</td>\n",
       "      <td>1.0</td>\n",
       "      <td>0.0</td>\n",
       "      <td>0.0</td>\n",
       "      <td>0.0</td>\n",
       "      <td>0.0</td>\n",
       "      <td>0.0</td>\n",
       "      <td>0.0</td>\n",
       "      <td>...</td>\n",
       "      <td>0.0</td>\n",
       "      <td>0.0</td>\n",
       "      <td>0.0</td>\n",
       "      <td>0.0</td>\n",
       "      <td>0.0</td>\n",
       "      <td>0.0</td>\n",
       "      <td>0.0</td>\n",
       "      <td>0.0</td>\n",
       "      <td>0.0</td>\n",
       "      <td>0.0</td>\n",
       "    </tr>\n",
       "    <tr>\n",
       "      <th>2019-10-01 00:00:00</th>\n",
       "      <td>1.0</td>\n",
       "      <td>2.0</td>\n",
       "      <td>2.0</td>\n",
       "      <td>2.0</td>\n",
       "      <td>0.0</td>\n",
       "      <td>0.0</td>\n",
       "      <td>0.0</td>\n",
       "      <td>0.0</td>\n",
       "      <td>0.0</td>\n",
       "      <td>0.0</td>\n",
       "      <td>...</td>\n",
       "      <td>0.0</td>\n",
       "      <td>0.0</td>\n",
       "      <td>0.0</td>\n",
       "      <td>0.0</td>\n",
       "      <td>0.0</td>\n",
       "      <td>0.0</td>\n",
       "      <td>0.0</td>\n",
       "      <td>0.0</td>\n",
       "      <td>0.0</td>\n",
       "      <td>0.0</td>\n",
       "    </tr>\n",
       "    <tr>\n",
       "      <th>2019-11-01 00:00:00</th>\n",
       "      <td>1.0</td>\n",
       "      <td>3.0</td>\n",
       "      <td>3.0</td>\n",
       "      <td>3.0</td>\n",
       "      <td>0.0</td>\n",
       "      <td>0.0</td>\n",
       "      <td>0.0</td>\n",
       "      <td>0.0</td>\n",
       "      <td>0.0</td>\n",
       "      <td>0.0</td>\n",
       "      <td>...</td>\n",
       "      <td>0.0</td>\n",
       "      <td>0.0</td>\n",
       "      <td>0.0</td>\n",
       "      <td>0.0</td>\n",
       "      <td>0.0</td>\n",
       "      <td>0.0</td>\n",
       "      <td>0.0</td>\n",
       "      <td>0.0</td>\n",
       "      <td>0.0</td>\n",
       "      <td>0.0</td>\n",
       "    </tr>\n",
       "    <tr>\n",
       "      <th>2019-12-01 00:00:00</th>\n",
       "      <td>1.0</td>\n",
       "      <td>3.0</td>\n",
       "      <td>4.0</td>\n",
       "      <td>4.0</td>\n",
       "      <td>0.0</td>\n",
       "      <td>0.0</td>\n",
       "      <td>0.0</td>\n",
       "      <td>0.0</td>\n",
       "      <td>0.0</td>\n",
       "      <td>0.0</td>\n",
       "      <td>...</td>\n",
       "      <td>0.0</td>\n",
       "      <td>0.0</td>\n",
       "      <td>0.0</td>\n",
       "      <td>0.0</td>\n",
       "      <td>0.0</td>\n",
       "      <td>0.0</td>\n",
       "      <td>0.0</td>\n",
       "      <td>0.0</td>\n",
       "      <td>0.0</td>\n",
       "      <td>0.0</td>\n",
       "    </tr>\n",
       "    <tr>\n",
       "      <th>2020-01-01 00:00:00</th>\n",
       "      <td>2.0</td>\n",
       "      <td>4.0</td>\n",
       "      <td>6.0</td>\n",
       "      <td>6.0</td>\n",
       "      <td>0.0</td>\n",
       "      <td>0.0</td>\n",
       "      <td>0.0</td>\n",
       "      <td>0.0</td>\n",
       "      <td>0.0</td>\n",
       "      <td>0.0</td>\n",
       "      <td>...</td>\n",
       "      <td>0.0</td>\n",
       "      <td>0.0</td>\n",
       "      <td>0.0</td>\n",
       "      <td>0.0</td>\n",
       "      <td>0.0</td>\n",
       "      <td>0.0</td>\n",
       "      <td>0.0</td>\n",
       "      <td>0.0</td>\n",
       "      <td>0.0</td>\n",
       "      <td>0.0</td>\n",
       "    </tr>\n",
       "  </tbody>\n",
       "</table>\n",
       "<p>5 rows × 211 columns</p>\n",
       "</div>"
      ],
      "text/plain": [
       "                               cnt_zp_1m  cnt_zp_3m  cnt_zp_6m  cnt_zp_12m  \\\n",
       "client_id report_date                                                        \n",
       "0         2019-09-01 00:00:00        1.0        1.0        1.0         1.0   \n",
       "          2019-10-01 00:00:00        1.0        2.0        2.0         2.0   \n",
       "          2019-11-01 00:00:00        1.0        3.0        3.0         3.0   \n",
       "          2019-12-01 00:00:00        1.0        3.0        4.0         4.0   \n",
       "          2020-01-01 00:00:00        2.0        4.0        6.0         6.0   \n",
       "\n",
       "                               downlimit_count  uplimit_count  \\\n",
       "client_id report_date                                           \n",
       "0         2019-09-01 00:00:00              0.0            0.0   \n",
       "          2019-10-01 00:00:00              0.0            0.0   \n",
       "          2019-11-01 00:00:00              0.0            0.0   \n",
       "          2019-12-01 00:00:00              0.0            0.0   \n",
       "          2020-01-01 00:00:00              0.0            0.0   \n",
       "\n",
       "                               limit_exchange_count  cur_credit_limit  \\\n",
       "client_id report_date                                                   \n",
       "0         2019-09-01 00:00:00                   0.0               0.0   \n",
       "          2019-10-01 00:00:00                   0.0               0.0   \n",
       "          2019-11-01 00:00:00                   0.0               0.0   \n",
       "          2019-12-01 00:00:00                   0.0               0.0   \n",
       "          2020-01-01 00:00:00                   0.0               0.0   \n",
       "\n",
       "                               cur_cr_lim_month  prev_credit_limit  ...  \\\n",
       "client_id report_date                                               ...   \n",
       "0         2019-09-01 00:00:00               0.0                0.0  ...   \n",
       "          2019-10-01 00:00:00               0.0                0.0  ...   \n",
       "          2019-11-01 00:00:00               0.0                0.0  ...   \n",
       "          2019-12-01 00:00:00               0.0                0.0  ...   \n",
       "          2020-01-01 00:00:00               0.0                0.0  ...   \n",
       "\n",
       "                               curdel_30plus_bki  curdel_60plus_bank  \\\n",
       "client_id report_date                                                  \n",
       "0         2019-09-01 00:00:00                0.0                 0.0   \n",
       "          2019-10-01 00:00:00                0.0                 0.0   \n",
       "          2019-11-01 00:00:00                0.0                 0.0   \n",
       "          2019-12-01 00:00:00                0.0                 0.0   \n",
       "          2020-01-01 00:00:00                0.0                 0.0   \n",
       "\n",
       "                               curdel_60plus_bki  curdel_tech_bank  \\\n",
       "client_id report_date                                                \n",
       "0         2019-09-01 00:00:00                0.0               0.0   \n",
       "          2019-10-01 00:00:00                0.0               0.0   \n",
       "          2019-11-01 00:00:00                0.0               0.0   \n",
       "          2019-12-01 00:00:00                0.0               0.0   \n",
       "          2020-01-01 00:00:00                0.0               0.0   \n",
       "\n",
       "                               curdel_tech_bki  bank_1_29_5y_debtor  \\\n",
       "client_id report_date                                                 \n",
       "0         2019-09-01 00:00:00              0.0                  0.0   \n",
       "          2019-10-01 00:00:00              0.0                  0.0   \n",
       "          2019-11-01 00:00:00              0.0                  0.0   \n",
       "          2019-12-01 00:00:00              0.0                  0.0   \n",
       "          2020-01-01 00:00:00              0.0                  0.0   \n",
       "\n",
       "                               bank_30_59_5y_debtor  bank_60_89_5y_debtor  \\\n",
       "client_id report_date                                                       \n",
       "0         2019-09-01 00:00:00                   0.0                   0.0   \n",
       "          2019-10-01 00:00:00                   0.0                   0.0   \n",
       "          2019-11-01 00:00:00                   0.0                   0.0   \n",
       "          2019-12-01 00:00:00                   0.0                   0.0   \n",
       "          2020-01-01 00:00:00                   0.0                   0.0   \n",
       "\n",
       "                               bank_90_119_5y_debtor  bank_120plus_5y_debtor  \n",
       "client_id report_date                                                         \n",
       "0         2019-09-01 00:00:00                    0.0                     0.0  \n",
       "          2019-10-01 00:00:00                    0.0                     0.0  \n",
       "          2019-11-01 00:00:00                    0.0                     0.0  \n",
       "          2019-12-01 00:00:00                    0.0                     0.0  \n",
       "          2020-01-01 00:00:00                    0.0                     0.0  \n",
       "\n",
       "[5 rows x 211 columns]"
      ]
     },
     "execution_count": 10,
     "metadata": {},
     "output_type": "execute_result"
    }
   ],
   "source": [
    "X = X.groupby(['client_id','report_date']).sum()\n",
    "X.drop('Unnamed: 0', axis=1, inplace = True)\n",
    "X.head()"
   ]
  },
  {
   "cell_type": "code",
   "execution_count": 11,
   "metadata": {},
   "outputs": [
    {
     "data": {
      "text/html": [
       "<div>\n",
       "<style scoped>\n",
       "    .dataframe tbody tr th:only-of-type {\n",
       "        vertical-align: middle;\n",
       "    }\n",
       "\n",
       "    .dataframe tbody tr th {\n",
       "        vertical-align: top;\n",
       "    }\n",
       "\n",
       "    .dataframe thead th {\n",
       "        text-align: right;\n",
       "    }\n",
       "</style>\n",
       "<table border=\"1\" class=\"dataframe\">\n",
       "  <thead>\n",
       "    <tr style=\"text-align: right;\">\n",
       "      <th></th>\n",
       "      <th>group_predict</th>\n",
       "    </tr>\n",
       "  </thead>\n",
       "  <tbody>\n",
       "    <tr>\n",
       "      <th>0</th>\n",
       "      <td>0</td>\n",
       "    </tr>\n",
       "    <tr>\n",
       "      <th>1</th>\n",
       "      <td>1</td>\n",
       "    </tr>\n",
       "    <tr>\n",
       "      <th>2</th>\n",
       "      <td>0</td>\n",
       "    </tr>\n",
       "    <tr>\n",
       "      <th>3</th>\n",
       "      <td>0</td>\n",
       "    </tr>\n",
       "    <tr>\n",
       "      <th>4</th>\n",
       "      <td>1</td>\n",
       "    </tr>\n",
       "  </tbody>\n",
       "</table>\n",
       "</div>"
      ],
      "text/plain": [
       "   group_predict\n",
       "0              0\n",
       "1              1\n",
       "2              0\n",
       "3              0\n",
       "4              1"
      ]
     },
     "execution_count": 11,
     "metadata": {},
     "output_type": "execute_result"
    }
   ],
   "source": [
    "y.head()"
   ]
  },
  {
   "cell_type": "code",
   "execution_count": 12,
   "metadata": {},
   "outputs": [],
   "source": [
    "X_train, X_test, y_train, y_test = train_test_split(X, y, test_size = 0.2, random_state=42)"
   ]
  },
  {
   "cell_type": "markdown",
   "metadata": {},
   "source": [
    "# Naive Bayes"
   ]
  },
  {
   "cell_type": "code",
   "execution_count": 13,
   "metadata": {},
   "outputs": [
    {
     "name": "stderr",
     "output_type": "stream",
     "text": [
      "/Users/ramil/tech/python/web/digital-breakthrough-2020/infra/env/lib/python3.7/site-packages/sklearn/utils/validation.py:72: DataConversionWarning: A column-vector y was passed when a 1d array was expected. Please change the shape of y to (n_samples, ), for example using ravel().\n",
      "  return f(**kwargs)\n"
     ]
    },
    {
     "data": {
      "text/plain": [
       "GaussianNB()"
      ]
     },
     "execution_count": 13,
     "metadata": {},
     "output_type": "execute_result"
    }
   ],
   "source": [
    "from sklearn.naive_bayes import GaussianNB\n",
    "from sklearn.metrics import classification_report\n",
    "\n",
    "gnb = GaussianNB()\n",
    "gnb.fit(X_train, y_train)"
   ]
  },
  {
   "cell_type": "code",
   "execution_count": 14,
   "metadata": {},
   "outputs": [
    {
     "name": "stdout",
     "output_type": "stream",
     "text": [
      "              precision    recall  f1-score   support\n",
      "\n",
      "           0       0.88      0.04      0.08     17681\n",
      "           1       0.10      0.00      0.00      2939\n",
      "           2       0.28      0.01      0.02      1188\n",
      "           3       0.08      0.03      0.04       886\n",
      "           4       0.07      0.02      0.03       354\n",
      "           5       0.02      0.00      0.01       257\n",
      "           6       0.07      0.01      0.02       282\n",
      "           7       0.00      0.00      0.00       162\n",
      "           8       0.01      0.11      0.02        54\n",
      "           9       0.00      0.03      0.00        36\n",
      "          10       0.01      0.27      0.01        26\n",
      "          11       0.00      0.05      0.00        44\n",
      "          12       0.01      0.07      0.02        15\n",
      "          13       0.00      0.18      0.01        17\n",
      "          14       0.01      0.11      0.02         9\n",
      "          15       0.01      0.30      0.01        10\n",
      "          16       0.00      0.29      0.01         7\n",
      "          17       0.00      0.40      0.00         5\n",
      "          18       0.00      0.44      0.01         9\n",
      "          19       0.00      0.50      0.00        10\n",
      "          20       0.00      1.00      0.00         4\n",
      "          21       0.00      0.75      0.00         4\n",
      "          22       0.20      1.00      0.33         1\n",
      "\n",
      "    accuracy                           0.04     24000\n",
      "   macro avg       0.08      0.24      0.03     24000\n",
      "weighted avg       0.68      0.04      0.07     24000\n",
      "\n"
     ]
    }
   ],
   "source": [
    "print(classification_report(y_train, gnb.predict(X_train)))"
   ]
  },
  {
   "cell_type": "markdown",
   "metadata": {},
   "source": [
    "## Random Forest"
   ]
  },
  {
   "cell_type": "code",
   "execution_count": 15,
   "metadata": {},
   "outputs": [
    {
     "name": "stderr",
     "output_type": "stream",
     "text": [
      "/Users/ramil/tech/python/web/digital-breakthrough-2020/infra/env/lib/python3.7/site-packages/ipykernel_launcher.py:3: DataConversionWarning: A column-vector y was passed when a 1d array was expected. Please change the shape of y to (n_samples,), for example using ravel().\n",
      "  This is separate from the ipykernel package so we can avoid doing imports until\n"
     ]
    },
    {
     "data": {
      "text/plain": [
       "RandomForestClassifier(max_depth=2, random_state=0)"
      ]
     },
     "execution_count": 15,
     "metadata": {},
     "output_type": "execute_result"
    }
   ],
   "source": [
    "from sklearn.ensemble import RandomForestClassifier\n",
    "rfc = RandomForestClassifier(max_depth=2, random_state=0)\n",
    "rfc.fit(X_train, y_train)"
   ]
  },
  {
   "cell_type": "code",
   "execution_count": 16,
   "metadata": {},
   "outputs": [
    {
     "data": {
      "text/plain": [
       "0.7488333333333334"
      ]
     },
     "execution_count": 16,
     "metadata": {},
     "output_type": "execute_result"
    }
   ],
   "source": [
    "from sklearn.metrics import accuracy_score\n",
    "y_pred = rfc.predict(X_test)\n",
    "accuracy_score(y_test, y_pred)"
   ]
  },
  {
   "cell_type": "code",
   "execution_count": 17,
   "metadata": {},
   "outputs": [
    {
     "data": {
      "text/plain": [
       "array([6.62444396e-01, 1.14171973e-01, 4.48961104e-02, 1.17235405e-01,\n",
       "       2.00140592e-02, 1.60735673e-02, 8.27721876e-03, 5.73557779e-03,\n",
       "       1.40429598e-03, 1.07860518e-03, 1.43112624e-03, 1.98609392e-03,\n",
       "       1.49344362e-03, 7.92204895e-04, 7.65923689e-04, 2.28152027e-04,\n",
       "       3.56238780e-04, 2.32426050e-04, 9.66288359e-04, 2.80293354e-04,\n",
       "       3.04039291e-05, 7.61856842e-05, 3.00108152e-05])"
      ]
     },
     "execution_count": 17,
     "metadata": {},
     "output_type": "execute_result"
    }
   ],
   "source": [
    "rfc.predict_proba(X_test)[112]"
   ]
  },
  {
   "cell_type": "code",
   "execution_count": 18,
   "metadata": {},
   "outputs": [
    {
     "data": {
      "text/plain": [
       "0    6000\n",
       "Name: 0, dtype: int64"
      ]
     },
     "execution_count": 18,
     "metadata": {},
     "output_type": "execute_result"
    }
   ],
   "source": [
    "pd.DataFrame(rfc.predict(X_test))[0].value_counts()"
   ]
  },
  {
   "cell_type": "code",
   "execution_count": 19,
   "metadata": {},
   "outputs": [
    {
     "data": {
      "text/plain": [
       "0     22174\n",
       "1      3636\n",
       "2      1465\n",
       "3      1110\n",
       "4       429\n",
       "6       350\n",
       "5       321\n",
       "7       200\n",
       "8        65\n",
       "11       58\n",
       "9        40\n",
       "10       31\n",
       "12       23\n",
       "13       19\n",
       "14       14\n",
       "15       12\n",
       "19       12\n",
       "18       11\n",
       "16       10\n",
       "17        8\n",
       "20        5\n",
       "21        4\n",
       "22        1\n",
       "24        1\n",
       "25        1\n",
       "Name: group_predict, dtype: int64"
      ]
     },
     "execution_count": 19,
     "metadata": {},
     "output_type": "execute_result"
    }
   ],
   "source": [
    "y['group_predict'].value_counts()"
   ]
  },
  {
   "cell_type": "markdown",
   "metadata": {},
   "source": [
    "## ExtraTreesClassifier"
   ]
  },
  {
   "cell_type": "code",
   "execution_count": 22,
   "metadata": {},
   "outputs": [
    {
     "name": "stderr",
     "output_type": "stream",
     "text": [
      "/Users/ramil/tech/python/web/digital-breakthrough-2020/infra/env/lib/python3.7/site-packages/ipykernel_launcher.py:4: DataConversionWarning: A column-vector y was passed when a 1d array was expected. Please change the shape of y to (n_samples,), for example using ravel().\n",
      "  after removing the cwd from sys.path.\n"
     ]
    },
    {
     "data": {
      "text/plain": [
       "ExtraTreesClassifier()"
      ]
     },
     "execution_count": 22,
     "metadata": {},
     "output_type": "execute_result"
    }
   ],
   "source": [
    "from sklearn.ensemble import ExtraTreesClassifier\n",
    "\n",
    "tree = ExtraTreesClassifier()\n",
    "tree.fit(X_train, y_train)"
   ]
  },
  {
   "cell_type": "code",
   "execution_count": 23,
   "metadata": {},
   "outputs": [
    {
     "data": {
      "text/plain": [
       "0.7473333333333333"
      ]
     },
     "execution_count": 23,
     "metadata": {},
     "output_type": "execute_result"
    }
   ],
   "source": [
    "y_pred_tree = tree.predict(X_test)\n",
    "accuracy_score(y_test, y_pred_tree)"
   ]
  },
  {
   "cell_type": "code",
   "execution_count": 53,
   "metadata": {},
   "outputs": [],
   "source": [
    "tree.feature_importances_.sort()"
   ]
  },
  {
   "cell_type": "code",
   "execution_count": 24,
   "metadata": {},
   "outputs": [
    {
     "data": {
      "text/plain": [
       "0     4803\n",
       "1      572\n",
       "2      223\n",
       "3      181\n",
       "4       67\n",
       "5       49\n",
       "6       40\n",
       "7       23\n",
       "11       9\n",
       "8        9\n",
       "13       5\n",
       "9        5\n",
       "12       3\n",
       "14       3\n",
       "17       2\n",
       "15       2\n",
       "10       2\n",
       "16       1\n",
       "19       1\n",
       "Name: 0, dtype: int64"
      ]
     },
     "execution_count": 24,
     "metadata": {},
     "output_type": "execute_result"
    }
   ],
   "source": [
    "pd.DataFrame(y_pred_tree)[0].value_counts()"
   ]
  },
  {
   "cell_type": "code",
   "execution_count": 25,
   "metadata": {},
   "outputs": [
    {
     "data": {
      "text/plain": [
       "array([[0.72, 0.06, 0.09, ..., 0.  , 0.  , 0.  ],\n",
       "       [0.12, 0.03, 0.  , ..., 0.  , 0.  , 0.  ],\n",
       "       [0.  , 0.  , 0.  , ..., 0.  , 0.  , 0.  ],\n",
       "       ...,\n",
       "       [0.98, 0.02, 0.  , ..., 0.  , 0.  , 0.  ],\n",
       "       [0.97, 0.01, 0.  , ..., 0.  , 0.  , 0.  ],\n",
       "       [0.96, 0.03, 0.  , ..., 0.  , 0.  , 0.  ]])"
      ]
     },
     "execution_count": 25,
     "metadata": {},
     "output_type": "execute_result"
    }
   ],
   "source": [
    "tree.predict_proba(X_test)"
   ]
  },
  {
   "cell_type": "markdown",
   "metadata": {},
   "source": [
    "## SGDClassifier"
   ]
  },
  {
   "cell_type": "code",
   "execution_count": 26,
   "metadata": {},
   "outputs": [
    {
     "name": "stderr",
     "output_type": "stream",
     "text": [
      "/Users/ramil/tech/python/web/digital-breakthrough-2020/infra/env/lib/python3.7/site-packages/sklearn/utils/validation.py:72: DataConversionWarning: A column-vector y was passed when a 1d array was expected. Please change the shape of y to (n_samples, ), for example using ravel().\n",
      "  return f(**kwargs)\n"
     ]
    },
    {
     "data": {
      "text/plain": [
       "SGDClassifier()"
      ]
     },
     "execution_count": 26,
     "metadata": {},
     "output_type": "execute_result"
    }
   ],
   "source": [
    "from sklearn.linear_model import SGDClassifier\n",
    "\n",
    "sgd = SGDClassifier()\n",
    "sgd.fit(X_train, y_train)"
   ]
  },
  {
   "cell_type": "code",
   "execution_count": 27,
   "metadata": {},
   "outputs": [
    {
     "data": {
      "text/plain": [
       "0.5118333333333334"
      ]
     },
     "execution_count": 27,
     "metadata": {},
     "output_type": "execute_result"
    }
   ],
   "source": [
    "y_pred_sgd = sgd.predict(X_test)\n",
    "accuracy_score(y_test, y_pred_sgd)"
   ]
  },
  {
   "cell_type": "markdown",
   "metadata": {},
   "source": [
    "# best model\n",
    "\n",
    "best model is `ExtraTreesClassifier`, let's export it"
   ]
  },
  {
   "cell_type": "markdown",
   "metadata": {},
   "source": [
    "# Exporting model"
   ]
  },
  {
   "cell_type": "code",
   "execution_count": 70,
   "metadata": {},
   "outputs": [],
   "source": [
    "def tracker_count_features_frame(model, X: pd.DataFrame) -> int:\n",
    "    \"\"\" Кол-во фиче в датасете \"\"\"\n",
    "    return len(X_test.columns)\n",
    "\n",
    "def tracker_len_frame(model, X: pd.DataFrame) -> int:\n",
    "    \"\"\" Кол-во наблюдений датасета \"\"\"\n",
    "    return len(X)\n",
    "\n",
    "def tracker_count_classes(model, X: pd.DataFrame) -> int:\n",
    "    \"\"\" Кол-во классов в предсказаннии \"\"\"\n",
    "    y = model.predict(X)\n",
    "    return len(set(y))\n",
    "\n",
    "# def tracker_count_pretidction(model, X: pd.DataFrame):\n",
    "#     tracked_y_predict = model.predict(X)"
   ]
  },
  {
   "cell_type": "code",
   "execution_count": 76,
   "metadata": {},
   "outputs": [
    {
     "ename": "TypeError",
     "evalue": "__init__() got an unexpected keyword argument 'model_name'",
     "output_type": "error",
     "traceback": [
      "\u001b[0;31m---------------------------------------------------------------------------\u001b[0m",
      "\u001b[0;31mTypeError\u001b[0m                                 Traceback (most recent call last)",
      "\u001b[0;32m<ipython-input-76-7641df17d9cb>\u001b[0m in \u001b[0;36m<module>\u001b[0;34m\u001b[0m\n\u001b[1;32m     14\u001b[0m \u001b[0mmodel_version\u001b[0m \u001b[0;34m=\u001b[0m \u001b[0;34m\"version_1\"\u001b[0m\u001b[0;34m\u001b[0m\u001b[0;34m\u001b[0m\u001b[0m\n\u001b[1;32m     15\u001b[0m \u001b[0;31m# создаем модель в виде объекта\u001b[0m\u001b[0;34m\u001b[0m\u001b[0;34m\u001b[0m\u001b[0;34m\u001b[0m\u001b[0m\n\u001b[0;32m---> 16\u001b[0;31m \u001b[0mmodel\u001b[0m \u001b[0;34m=\u001b[0m \u001b[0mLyraTrackerManager\u001b[0m\u001b[0;34m(\u001b[0m\u001b[0mmodel\u001b[0m\u001b[0;34m=\u001b[0m\u001b[0mtree\u001b[0m\u001b[0;34m,\u001b[0m \u001b[0mmodel_name\u001b[0m\u001b[0;34m=\u001b[0m\u001b[0mmodel_name\u001b[0m\u001b[0;34m,\u001b[0m \u001b[0mmodel_version\u001b[0m\u001b[0;34m=\u001b[0m\u001b[0mmodel_version\u001b[0m\u001b[0;34m,\u001b[0m \u001b[0mtrackers\u001b[0m\u001b[0;34m=\u001b[0m\u001b[0mtrackers\u001b[0m\u001b[0;34m)\u001b[0m\u001b[0;34m\u001b[0m\u001b[0;34m\u001b[0m\u001b[0m\n\u001b[0m\u001b[1;32m     17\u001b[0m \u001b[0;34m\u001b[0m\u001b[0m\n\u001b[1;32m     18\u001b[0m \u001b[0;31m# импортируем модель в пикуль\u001b[0m\u001b[0;34m\u001b[0m\u001b[0;34m\u001b[0m\u001b[0;34m\u001b[0m\u001b[0m\n",
      "\u001b[0;31mTypeError\u001b[0m: __init__() got an unexpected keyword argument 'model_name'"
     ]
    }
   ],
   "source": [
    "# initialize wrapper for ML model\n",
    "from ml.lyra_tracker import LyraTrackerManager\n",
    "\n",
    "import pickle\n",
    "\n",
    "#   собираем трекеры в массив\n",
    "trackers = [\n",
    "    tracker_count_features_frame,\n",
    "    tracker_len_frame,\n",
    "    tracker_count_classes\n",
    "]\n",
    "\n",
    "model_name = \"extra_trees_classifier\"\n",
    "model_version = \"version_1\"\n",
    "# создаем модель в виде объекта\n",
    "model = LyraTrackerManager(model=tree, name==model_name, model_version=model_version, trackers=trackers)\n",
    "\n",
    "# импортируем модель в пикуль\n",
    "model_dir = \"bin\"\n",
    "filename = f\"{model_name}_{model_version}.sav\"\n",
    "pickle.dump(model, open(f'{model_dir}/{filename}', 'wb'))"
   ]
  },
  {
   "cell_type": "code",
   "execution_count": null,
   "metadata": {},
   "outputs": [],
   "source": []
  },
  {
   "cell_type": "code",
   "execution_count": null,
   "metadata": {},
   "outputs": [],
   "source": []
  },
  {
   "cell_type": "code",
   "execution_count": null,
   "metadata": {},
   "outputs": [],
   "source": []
  },
  {
   "cell_type": "code",
   "execution_count": null,
   "metadata": {},
   "outputs": [],
   "source": []
  },
  {
   "cell_type": "code",
   "execution_count": null,
   "metadata": {},
   "outputs": [],
   "source": []
  }
 ],
 "metadata": {
  "kernelspec": {
   "display_name": "Python 3",
   "language": "python",
   "name": "python3"
  },
  "language_info": {
   "codemirror_mode": {
    "name": "ipython",
    "version": 3
   },
   "file_extension": ".py",
   "mimetype": "text/x-python",
   "name": "python",
   "nbconvert_exporter": "python",
   "pygments_lexer": "ipython3",
   "version": "3.7.6"
  }
 },
 "nbformat": 4,
 "nbformat_minor": 4
}
