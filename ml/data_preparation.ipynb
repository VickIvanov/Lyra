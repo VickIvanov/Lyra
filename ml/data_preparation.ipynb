{
 "cells": [
  {
   "cell_type": "markdown",
   "metadata": {
    "pycharm": {
     "name": "#%% md\n"
    }
   },
   "source": [
    "# Feature engineering"
   ]
  },
  {
   "cell_type": "code",
   "execution_count": 4,
   "metadata": {},
   "outputs": [],
   "source": [
    "import pandas as pd\n",
    "import numpy as np"
   ]
  },
  {
   "cell_type": "code",
   "execution_count": 8,
   "metadata": {},
   "outputs": [
    {
     "data": {
      "text/html": [
       "<div>\n",
       "<style scoped>\n",
       "    .dataframe tbody tr th:only-of-type {\n",
       "        vertical-align: middle;\n",
       "    }\n",
       "\n",
       "    .dataframe tbody tr th {\n",
       "        vertical-align: top;\n",
       "    }\n",
       "\n",
       "    .dataframe thead th {\n",
       "        text-align: right;\n",
       "    }\n",
       "</style>\n",
       "<table border=\"1\" class=\"dataframe\">\n",
       "  <thead>\n",
       "    <tr style=\"text-align: right;\">\n",
       "      <th></th>\n",
       "      <th></th>\n",
       "      <th>cnt_zp_1m</th>\n",
       "      <th>cnt_zp_3m</th>\n",
       "      <th>cnt_zp_6m</th>\n",
       "      <th>cnt_zp_12m</th>\n",
       "      <th>downlimit_count</th>\n",
       "      <th>uplimit_count</th>\n",
       "      <th>limit_exchange_count</th>\n",
       "      <th>cur_credit_limit</th>\n",
       "      <th>cur_cr_lim_month</th>\n",
       "      <th>prev_credit_limit</th>\n",
       "      <th>...</th>\n",
       "      <th>curdel_30plus_bki</th>\n",
       "      <th>curdel_60plus_bank</th>\n",
       "      <th>curdel_60plus_bki</th>\n",
       "      <th>curdel_tech_bank</th>\n",
       "      <th>curdel_tech_bki</th>\n",
       "      <th>bank_1_29_5y_debtor</th>\n",
       "      <th>bank_30_59_5y_debtor</th>\n",
       "      <th>bank_60_89_5y_debtor</th>\n",
       "      <th>bank_90_119_5y_debtor</th>\n",
       "      <th>bank_120plus_5y_debtor</th>\n",
       "    </tr>\n",
       "    <tr>\n",
       "      <th>client_id</th>\n",
       "      <th>report_date</th>\n",
       "      <th></th>\n",
       "      <th></th>\n",
       "      <th></th>\n",
       "      <th></th>\n",
       "      <th></th>\n",
       "      <th></th>\n",
       "      <th></th>\n",
       "      <th></th>\n",
       "      <th></th>\n",
       "      <th></th>\n",
       "      <th></th>\n",
       "      <th></th>\n",
       "      <th></th>\n",
       "      <th></th>\n",
       "      <th></th>\n",
       "      <th></th>\n",
       "      <th></th>\n",
       "      <th></th>\n",
       "      <th></th>\n",
       "      <th></th>\n",
       "      <th></th>\n",
       "    </tr>\n",
       "  </thead>\n",
       "  <tbody>\n",
       "    <tr>\n",
       "      <th rowspan=\"5\" valign=\"top\">0</th>\n",
       "      <th>2019-09-01 00:00:00</th>\n",
       "      <td>1.0</td>\n",
       "      <td>1.0</td>\n",
       "      <td>1.0</td>\n",
       "      <td>1.0</td>\n",
       "      <td>0.0</td>\n",
       "      <td>0.0</td>\n",
       "      <td>0.0</td>\n",
       "      <td>0.0</td>\n",
       "      <td>0.0</td>\n",
       "      <td>0.0</td>\n",
       "      <td>...</td>\n",
       "      <td>0.0</td>\n",
       "      <td>0.0</td>\n",
       "      <td>0.0</td>\n",
       "      <td>0.0</td>\n",
       "      <td>0.0</td>\n",
       "      <td>0.0</td>\n",
       "      <td>0.0</td>\n",
       "      <td>0.0</td>\n",
       "      <td>0.0</td>\n",
       "      <td>0.0</td>\n",
       "    </tr>\n",
       "    <tr>\n",
       "      <th>2019-10-01 00:00:00</th>\n",
       "      <td>1.0</td>\n",
       "      <td>2.0</td>\n",
       "      <td>2.0</td>\n",
       "      <td>2.0</td>\n",
       "      <td>0.0</td>\n",
       "      <td>0.0</td>\n",
       "      <td>0.0</td>\n",
       "      <td>0.0</td>\n",
       "      <td>0.0</td>\n",
       "      <td>0.0</td>\n",
       "      <td>...</td>\n",
       "      <td>0.0</td>\n",
       "      <td>0.0</td>\n",
       "      <td>0.0</td>\n",
       "      <td>0.0</td>\n",
       "      <td>0.0</td>\n",
       "      <td>0.0</td>\n",
       "      <td>0.0</td>\n",
       "      <td>0.0</td>\n",
       "      <td>0.0</td>\n",
       "      <td>0.0</td>\n",
       "    </tr>\n",
       "    <tr>\n",
       "      <th>2019-11-01 00:00:00</th>\n",
       "      <td>1.0</td>\n",
       "      <td>3.0</td>\n",
       "      <td>3.0</td>\n",
       "      <td>3.0</td>\n",
       "      <td>0.0</td>\n",
       "      <td>0.0</td>\n",
       "      <td>0.0</td>\n",
       "      <td>0.0</td>\n",
       "      <td>0.0</td>\n",
       "      <td>0.0</td>\n",
       "      <td>...</td>\n",
       "      <td>0.0</td>\n",
       "      <td>0.0</td>\n",
       "      <td>0.0</td>\n",
       "      <td>0.0</td>\n",
       "      <td>0.0</td>\n",
       "      <td>0.0</td>\n",
       "      <td>0.0</td>\n",
       "      <td>0.0</td>\n",
       "      <td>0.0</td>\n",
       "      <td>0.0</td>\n",
       "    </tr>\n",
       "    <tr>\n",
       "      <th>2019-12-01 00:00:00</th>\n",
       "      <td>1.0</td>\n",
       "      <td>3.0</td>\n",
       "      <td>4.0</td>\n",
       "      <td>4.0</td>\n",
       "      <td>0.0</td>\n",
       "      <td>0.0</td>\n",
       "      <td>0.0</td>\n",
       "      <td>0.0</td>\n",
       "      <td>0.0</td>\n",
       "      <td>0.0</td>\n",
       "      <td>...</td>\n",
       "      <td>0.0</td>\n",
       "      <td>0.0</td>\n",
       "      <td>0.0</td>\n",
       "      <td>0.0</td>\n",
       "      <td>0.0</td>\n",
       "      <td>0.0</td>\n",
       "      <td>0.0</td>\n",
       "      <td>0.0</td>\n",
       "      <td>0.0</td>\n",
       "      <td>0.0</td>\n",
       "    </tr>\n",
       "    <tr>\n",
       "      <th>2020-01-01 00:00:00</th>\n",
       "      <td>2.0</td>\n",
       "      <td>4.0</td>\n",
       "      <td>6.0</td>\n",
       "      <td>6.0</td>\n",
       "      <td>0.0</td>\n",
       "      <td>0.0</td>\n",
       "      <td>0.0</td>\n",
       "      <td>0.0</td>\n",
       "      <td>0.0</td>\n",
       "      <td>0.0</td>\n",
       "      <td>...</td>\n",
       "      <td>0.0</td>\n",
       "      <td>0.0</td>\n",
       "      <td>0.0</td>\n",
       "      <td>0.0</td>\n",
       "      <td>0.0</td>\n",
       "      <td>0.0</td>\n",
       "      <td>0.0</td>\n",
       "      <td>0.0</td>\n",
       "      <td>0.0</td>\n",
       "      <td>0.0</td>\n",
       "    </tr>\n",
       "  </tbody>\n",
       "</table>\n",
       "<p>5 rows × 211 columns</p>\n",
       "</div>"
      ],
      "text/plain": [
       "                               cnt_zp_1m  cnt_zp_3m  cnt_zp_6m  cnt_zp_12m  \\\n",
       "client_id report_date                                                        \n",
       "0         2019-09-01 00:00:00        1.0        1.0        1.0         1.0   \n",
       "          2019-10-01 00:00:00        1.0        2.0        2.0         2.0   \n",
       "          2019-11-01 00:00:00        1.0        3.0        3.0         3.0   \n",
       "          2019-12-01 00:00:00        1.0        3.0        4.0         4.0   \n",
       "          2020-01-01 00:00:00        2.0        4.0        6.0         6.0   \n",
       "\n",
       "                               downlimit_count  uplimit_count  \\\n",
       "client_id report_date                                           \n",
       "0         2019-09-01 00:00:00              0.0            0.0   \n",
       "          2019-10-01 00:00:00              0.0            0.0   \n",
       "          2019-11-01 00:00:00              0.0            0.0   \n",
       "          2019-12-01 00:00:00              0.0            0.0   \n",
       "          2020-01-01 00:00:00              0.0            0.0   \n",
       "\n",
       "                               limit_exchange_count  cur_credit_limit  \\\n",
       "client_id report_date                                                   \n",
       "0         2019-09-01 00:00:00                   0.0               0.0   \n",
       "          2019-10-01 00:00:00                   0.0               0.0   \n",
       "          2019-11-01 00:00:00                   0.0               0.0   \n",
       "          2019-12-01 00:00:00                   0.0               0.0   \n",
       "          2020-01-01 00:00:00                   0.0               0.0   \n",
       "\n",
       "                               cur_cr_lim_month  prev_credit_limit  ...  \\\n",
       "client_id report_date                                               ...   \n",
       "0         2019-09-01 00:00:00               0.0                0.0  ...   \n",
       "          2019-10-01 00:00:00               0.0                0.0  ...   \n",
       "          2019-11-01 00:00:00               0.0                0.0  ...   \n",
       "          2019-12-01 00:00:00               0.0                0.0  ...   \n",
       "          2020-01-01 00:00:00               0.0                0.0  ...   \n",
       "\n",
       "                               curdel_30plus_bki  curdel_60plus_bank  \\\n",
       "client_id report_date                                                  \n",
       "0         2019-09-01 00:00:00                0.0                 0.0   \n",
       "          2019-10-01 00:00:00                0.0                 0.0   \n",
       "          2019-11-01 00:00:00                0.0                 0.0   \n",
       "          2019-12-01 00:00:00                0.0                 0.0   \n",
       "          2020-01-01 00:00:00                0.0                 0.0   \n",
       "\n",
       "                               curdel_60plus_bki  curdel_tech_bank  \\\n",
       "client_id report_date                                                \n",
       "0         2019-09-01 00:00:00                0.0               0.0   \n",
       "          2019-10-01 00:00:00                0.0               0.0   \n",
       "          2019-11-01 00:00:00                0.0               0.0   \n",
       "          2019-12-01 00:00:00                0.0               0.0   \n",
       "          2020-01-01 00:00:00                0.0               0.0   \n",
       "\n",
       "                               curdel_tech_bki  bank_1_29_5y_debtor  \\\n",
       "client_id report_date                                                 \n",
       "0         2019-09-01 00:00:00              0.0                  0.0   \n",
       "          2019-10-01 00:00:00              0.0                  0.0   \n",
       "          2019-11-01 00:00:00              0.0                  0.0   \n",
       "          2019-12-01 00:00:00              0.0                  0.0   \n",
       "          2020-01-01 00:00:00              0.0                  0.0   \n",
       "\n",
       "                               bank_30_59_5y_debtor  bank_60_89_5y_debtor  \\\n",
       "client_id report_date                                                       \n",
       "0         2019-09-01 00:00:00                   0.0                   0.0   \n",
       "          2019-10-01 00:00:00                   0.0                   0.0   \n",
       "          2019-11-01 00:00:00                   0.0                   0.0   \n",
       "          2019-12-01 00:00:00                   0.0                   0.0   \n",
       "          2020-01-01 00:00:00                   0.0                   0.0   \n",
       "\n",
       "                               bank_90_119_5y_debtor  bank_120plus_5y_debtor  \n",
       "client_id report_date                                                         \n",
       "0         2019-09-01 00:00:00                    0.0                     0.0  \n",
       "          2019-10-01 00:00:00                    0.0                     0.0  \n",
       "          2019-11-01 00:00:00                    0.0                     0.0  \n",
       "          2019-12-01 00:00:00                    0.0                     0.0  \n",
       "          2020-01-01 00:00:00                    0.0                     0.0  \n",
       "\n",
       "[5 rows x 211 columns]"
      ]
     },
     "execution_count": 8,
     "metadata": {},
     "output_type": "execute_result"
    }
   ],
   "source": [
    "agg = pd.read_csv('data/aggregates.csv')\n",
    "trans = pd.read_csv('data/transactions.csv')"
   ]
  },
  {
   "cell_type": "code",
   "execution_count": 9,
   "metadata": {},
   "outputs": [
    {
     "data": {
      "text/html": [
       "<div>\n",
       "<style scoped>\n",
       "    .dataframe tbody tr th:only-of-type {\n",
       "        vertical-align: middle;\n",
       "    }\n",
       "\n",
       "    .dataframe tbody tr th {\n",
       "        vertical-align: top;\n",
       "    }\n",
       "\n",
       "    .dataframe thead th {\n",
       "        text-align: right;\n",
       "    }\n",
       "</style>\n",
       "<table border=\"1\" class=\"dataframe\">\n",
       "  <thead>\n",
       "    <tr style=\"text-align: right;\">\n",
       "      <th></th>\n",
       "      <th>group_predict</th>\n",
       "    </tr>\n",
       "  </thead>\n",
       "  <tbody>\n",
       "    <tr>\n",
       "      <th>0</th>\n",
       "      <td>0</td>\n",
       "    </tr>\n",
       "    <tr>\n",
       "      <th>1</th>\n",
       "      <td>1</td>\n",
       "    </tr>\n",
       "    <tr>\n",
       "      <th>2</th>\n",
       "      <td>0</td>\n",
       "    </tr>\n",
       "    <tr>\n",
       "      <th>3</th>\n",
       "      <td>0</td>\n",
       "    </tr>\n",
       "    <tr>\n",
       "      <th>4</th>\n",
       "      <td>1</td>\n",
       "    </tr>\n",
       "  </tbody>\n",
       "</table>\n",
       "</div>"
      ],
      "text/plain": [
       "   group_predict\n",
       "0              0\n",
       "1              1\n",
       "2              0\n",
       "3              0\n",
       "4              1"
      ]
     },
     "execution_count": 9,
     "metadata": {},
     "output_type": "execute_result"
    }
   ],
   "source": [
    "agg.fillna(0, inplace = True)\n",
    "agg.head()"
   ]
  },
  {
   "cell_type": "code",
   "execution_count": 10,
   "metadata": {},
   "outputs": [],
   "source": [
    "trans.head()"
   ]
  },
  {
   "cell_type": "code",
   "execution_count": 11,
   "metadata": {},
   "outputs": [
    {
     "name": "stderr",
     "output_type": "stream",
     "text": [
      "/home/danila/anaconda3/lib/python3.7/site-packages/sklearn/naive_bayes.py:206: DataConversionWarning: A column-vector y was passed when a 1d array was expected. Please change the shape of y to (n_samples, ), for example using ravel().\n",
      "  y = column_or_1d(y, warn=True)\n"
     ]
    },
    {
     "data": {
      "text/plain": [
       "GaussianNB(priors=None, var_smoothing=1e-09)"
      ]
     },
     "execution_count": 11,
     "metadata": {},
     "output_type": "execute_result"
    }
   ],
   "source": [
    "agg = agg.groupby(['client_id', 'report_date']).sum()"
   ]
  },
  {
   "cell_type": "code",
   "execution_count": 16,
   "metadata": {},
   "outputs": [
    {
     "data": {
      "text/plain": [
       "array([[6.66156792e-174, 3.40713676e-196, 1.50252702e-172,\n",
       "        1.98735344e-140, 5.46792858e-235, 1.04911383e-164,\n",
       "        2.37027747e-264, 1.12693974e-170, 0.00000000e+000,\n",
       "        3.77817247e-105, 1.97022001e-108, 1.71507478e-120,\n",
       "        1.26212855e-067, 0.00000000e+000, 0.00000000e+000,\n",
       "        0.00000000e+000, 0.00000000e+000, 1.00000000e+000,\n",
       "        0.00000000e+000, 1.68012325e-209, 0.00000000e+000,\n",
       "        1.23628463e-018, 0.00000000e+000]])"
      ]
     },
     "execution_count": 16,
     "metadata": {},
     "output_type": "execute_result"
    }
   ],
   "source": [
    "agg.head()"
   ]
  },
  {
   "cell_type": "code",
   "metadata": {
    "pycharm": {
     "name": "#%%\n"
    }
   },
   "source": [
    "trans['mcc_group'].value_counts().index"
   ],
   "execution_count": null,
   "outputs": []
  },
  {
   "cell_type": "code",
   "execution_count": 17,
   "metadata": {},
   "outputs": [
    {
     "name": "stderr",
     "output_type": "stream",
     "text": [
      "/home/danila/anaconda3/lib/python3.7/site-packages/ipykernel_launcher.py:3: DataConversionWarning: A column-vector y was passed when a 1d array was expected. Please change the shape of y to (n_samples,), for example using ravel().\n",
      "  This is separate from the ipykernel package so we can avoid doing imports until\n"
     ]
    },
    {
     "data": {
      "text/plain": [
       "RandomForestClassifier(bootstrap=True, ccp_alpha=0.0, class_weight=None,\n",
       "                       criterion='gini', max_depth=2, max_features='auto',\n",
       "                       max_leaf_nodes=None, max_samples=None,\n",
       "                       min_impurity_decrease=0.0, min_impurity_split=None,\n",
       "                       min_samples_leaf=1, min_samples_split=2,\n",
       "                       min_weight_fraction_leaf=0.0, n_estimators=100,\n",
       "                       n_jobs=None, oob_score=False, random_state=0, verbose=0,\n",
       "                       warm_start=False)"
      ]
     },
     "execution_count": 17,
     "metadata": {},
     "output_type": "execute_result"
    }
   ],
   "source": [
    "df = trans\n",
    "col = trans['mcc_group'].value_counts().index\n",
    "for name in col:\n",
    "    df[name] = 0\n",
    "    df[name] = df.loc[df.mcc_group == name]['att_sum']"
   ]
  },
  {
   "cell_type": "code",
   "execution_count": 18,
   "metadata": {},
   "outputs": [
    {
     "data": {
      "text/plain": [
       "0.74875"
      ]
     },
     "execution_count": 18,
     "metadata": {},
     "output_type": "execute_result"
    }
   ],
   "source": [
    "df.fillna(0, inplace = True)\n",
    "df.head()"
   ]
  },
  {
   "cell_type": "code",
   "execution_count": 40,
   "metadata": {},
   "outputs": [
    {
     "data": {
      "text/plain": [
       "array([7.41025232e-01, 1.28338693e-01, 4.71884760e-02, 3.08096825e-02,\n",
       "       1.39402982e-02, 1.03181866e-02, 1.25680568e-02, 4.80983228e-03,\n",
       "       2.61264578e-03, 1.09399894e-03, 6.97535685e-04, 1.75443269e-03,\n",
       "       5.54081026e-04, 7.86016503e-04, 3.09940626e-04, 6.46167206e-04,\n",
       "       2.52065889e-04, 4.65525023e-04, 4.88726295e-04, 7.29801115e-04,\n",
       "       2.54228476e-04, 2.44395213e-04, 1.11982214e-04])"
      ]
     },
     "execution_count": 40,
     "metadata": {},
     "output_type": "execute_result"
    }
   ],
   "source": [
    "df = df.groupby(['client_id', 'last_day_month']).sum().iloc[:,5:]"
   ]
  },
  {
   "cell_type": "code",
   "execution_count": 45,
   "metadata": {},
   "outputs": [
    {
     "data": {
      "text/plain": [
       "0    2400\n",
       "Name: 0, dtype: int64"
      ]
     },
     "execution_count": 45,
     "metadata": {},
     "output_type": "execute_result"
    }
   ],
   "source": [
    "df.head()"
   ]
  },
  {
   "cell_type": "code",
   "execution_count": 27,
   "metadata": {},
   "outputs": [
    {
     "data": {
      "text/plain": [
       "0     9001\n",
       "1     1459\n",
       "2      541\n",
       "3      392\n",
       "4      163\n",
       "6      132\n",
       "5      125\n",
       "7       60\n",
       "8       25\n",
       "11      25\n",
       "9       15\n",
       "10      11\n",
       "13       9\n",
       "12       8\n",
       "19       7\n",
       "15       6\n",
       "18       5\n",
       "17       5\n",
       "14       3\n",
       "20       2\n",
       "21       2\n",
       "16       2\n",
       "24       1\n",
       "22       1\n",
       "Name: group_predict, dtype: int64"
      ]
     },
     "execution_count": 27,
     "metadata": {},
     "output_type": "execute_result"
    }
   ],
   "source": [
    "df['max_group'] = [df.columns[i][0] for i in df.values == df.max(axis=1)[:,None]]"
   ]
  },
  {
   "cell_type": "code",
   "metadata": {
    "pycharm": {
     "name": "#%%\n"
    }
   },
   "source": [
    "df.head()"
   ],
   "execution_count": null,
   "outputs": []
  },
  {
   "cell_type": "code",
   "execution_count": 46,
   "metadata": {},
   "outputs": [
    {
     "name": "stderr",
     "output_type": "stream",
     "text": [
      "/home/danila/anaconda3/lib/python3.7/site-packages/ipykernel_launcher.py:4: DataConversionWarning: A column-vector y was passed when a 1d array was expected. Please change the shape of y to (n_samples,), for example using ravel().\n",
      "  after removing the cwd from sys.path.\n"
     ]
    },
    {
     "data": {
      "text/plain": [
       "ExtraTreesClassifier(bootstrap=False, ccp_alpha=0.0, class_weight=None,\n",
       "                     criterion='gini', max_depth=None, max_features='auto',\n",
       "                     max_leaf_nodes=None, max_samples=None,\n",
       "                     min_impurity_decrease=0.0, min_impurity_split=None,\n",
       "                     min_samples_leaf=1, min_samples_split=2,\n",
       "                     min_weight_fraction_leaf=0.0, n_estimators=100,\n",
       "                     n_jobs=None, oob_score=False, random_state=None, verbose=0,\n",
       "                     warm_start=False)"
      ]
     },
     "execution_count": 46,
     "metadata": {},
     "output_type": "execute_result"
    }
   ],
   "source": [
    "df.reset_index('last_day_month', inplace = True)\n",
    "df.head()"
   ]
  },
  {
   "cell_type": "code",
   "execution_count": 47,
   "metadata": {},
   "outputs": [
    {
     "data": {
      "text/plain": [
       "0.74"
      ]
     },
     "execution_count": 47,
     "metadata": {},
     "output_type": "execute_result"
    }
   ],
   "source": [
    "df['year_month'] = 0\n",
    "for date in df['last_day_month'].value_counts().index:\n",
    "    df.loc[df.last_day_month == date, 'year_month'] = str(pd.to_datetime(date).year) + '_' + str(pd.to_datetime(date).month)\n",
    "    print(date)\n"
   ]
  },
  {
   "cell_type": "code",
   "execution_count": 50,
   "metadata": {},
   "outputs": [
    {
     "data": {
      "text/plain": [
       "0     1918\n",
       "1      241\n",
       "3       75\n",
       "2       74\n",
       "4       31\n",
       "6       22\n",
       "5       15\n",
       "7        5\n",
       "11       4\n",
       "17       2\n",
       "12       2\n",
       "8        2\n",
       "21       2\n",
       "13       2\n",
       "10       1\n",
       "16       1\n",
       "19       1\n",
       "9        1\n",
       "22       1\n",
       "Name: 0, dtype: int64"
      ]
     },
     "execution_count": 50,
     "metadata": {},
     "output_type": "execute_result"
    }
   ],
   "source": [
    "agg.reset_index('report_date', inplace = True)\n",
    "agg['year_month'] = 0\n",
    "for date in agg['report_date'].value_counts().index:\n",
    "    agg.loc[agg.report_date == date, 'year_month'] = str(pd.to_datetime(date).year) + '_' + str(pd.to_datetime(date).month)\n",
    "    print(date)"
   ]
  },
  {
   "cell_type": "code",
   "execution_count": 56,
   "metadata": {},
   "outputs": [
    {
     "data": {
      "text/plain": [
       "array([0.99, 0.01, 0.  , 0.  , 0.  , 0.  , 0.  , 0.  , 0.  , 0.  , 0.  ,\n",
       "       0.  , 0.  , 0.  , 0.  , 0.  , 0.  , 0.  , 0.  , 0.  , 0.  , 0.  ,\n",
       "       0.  ])"
      ]
     },
     "execution_count": 56,
     "metadata": {},
     "output_type": "execute_result"
    }
   ],
   "source": [
    "agg.reset_index(inplace = True)\n",
    "df.reset_index(inplace = True)\n",
    "agg.head()"
   ]
  },
  {
   "cell_type": "code",
   "metadata": {
    "pycharm": {
     "name": "#%%\n"
    }
   },
   "source": [
    "merged = pd.merge(agg, df[['client_id','year_month', 'max_group']], on=['client_id', 'year_month'])"
   ],
   "execution_count": null,
   "outputs": []
  },
  {
   "cell_type": "code",
   "execution_count": 20,
   "metadata": {},
   "outputs": [
    {
     "name": "stderr",
     "output_type": "stream",
     "text": [
      "/home/danila/anaconda3/lib/python3.7/site-packages/sklearn/utils/validation.py:760: DataConversionWarning: A column-vector y was passed when a 1d array was expected. Please change the shape of y to (n_samples, ), for example using ravel().\n",
      "  y = column_or_1d(y, warn=True)\n",
      "/home/danila/anaconda3/lib/python3.7/site-packages/sklearn/linear_model/_stochastic_gradient.py:557: ConvergenceWarning: Maximum number of iteration reached before convergence. Consider increasing max_iter to improve the fit.\n",
      "  ConvergenceWarning)\n"
     ]
    },
    {
     "data": {
      "text/plain": [
       "SGDClassifier(alpha=0.0001, average=False, class_weight=None,\n",
       "              early_stopping=False, epsilon=0.1, eta0=0.0, fit_intercept=True,\n",
       "              l1_ratio=0.15, learning_rate='optimal', loss='hinge',\n",
       "              max_iter=1000, n_iter_no_change=5, n_jobs=None, penalty='l2',\n",
       "              power_t=0.5, random_state=None, shuffle=True, tol=0.001,\n",
       "              validation_fraction=0.1, verbose=0, warm_start=False)"
      ]
     },
     "execution_count": 20,
     "metadata": {},
     "output_type": "execute_result"
    }
   ],
   "source": [
    "merged.drop('year_month', axis = 1, inplace = True)\n",
    "merged.head()"
   ]
  },
  {
   "cell_type": "code",
   "execution_count": 21,
   "metadata": {},
   "outputs": [
    {
     "data": {
      "text/plain": [
       "0.55"
      ]
     },
     "execution_count": 21,
     "metadata": {},
     "output_type": "execute_result"
    }
   ],
   "source": [
    "merged['group_predict'] = 0\n",
    "groups = merged['max_group'].value_counts().index\n",
    "for i in range(len(groups)):\n",
    "    merged.loc[merged.max_group == groups[i], 'group_predict'] = i"
   ]
  },
  {
   "cell_type": "code",
   "execution_count": null,
   "outputs": [],
   "source": [
    "merged.drop('max_group',axis=1,inplace = True)"
   ],
   "metadata": {
    "collapsed": false,
    "pycharm": {
     "name": "#%%\n"
    }
   }
  },
  {
   "cell_type": "code",
   "execution_count": null,
   "outputs": [],
   "source": [
    "merged.head()"
   ],
   "metadata": {
    "collapsed": false,
    "pycharm": {
     "name": "#%%\n"
    }
   }
  },
  {
   "cell_type": "code",
   "execution_count": null,
   "outputs": [],
   "source": [
    "merged = merged[:30000]"
   ],
   "metadata": {
    "collapsed": false,
    "pycharm": {
     "name": "#%%\n"
    }
   }
  },
  {
   "cell_type": "markdown",
   "source": [
    "# Machine Learning"
   ],
   "metadata": {
    "collapsed": false
   }
  },
  {
   "cell_type": "code",
   "execution_count": null,
   "outputs": [],
   "source": [
    "X = merged.iloc[:,:-1]\n",
    "y = merged.iloc[:,-1:]\n",
    "X.to_csv('data/X.csv')\n",
    "y.to_csv('data/y.csv')"
   ],
   "metadata": {
    "collapsed": false,
    "pycharm": {
     "name": "#%%\n"
    }
   }
  },
  {
   "cell_type": "code",
   "execution_count": null,
   "outputs": [],
   "source": [
    "del merged, trans"
   ],
   "metadata": {
    "collapsed": false,
    "pycharm": {
     "name": "#%%\n"
    }
   }
  },
  {
   "cell_type": "code",
   "execution_count": null,
   "outputs": [],
   "source": [
    "X = X.groupby(['client_id', 'report_date']).sum()\n",
    "X.head()"
   ],
   "metadata": {
    "collapsed": false,
    "pycharm": {
     "name": "#%%\n"
    }
   }
  },
  {
   "cell_type": "code",
   "execution_count": null,
   "outputs": [],
   "source": [
    "y.head()"
   ],
   "metadata": {
    "collapsed": false,
    "pycharm": {
     "name": "#%%\n"
    }
   }
  },
  {
   "cell_type": "code",
   "execution_count": null,
   "outputs": [],
   "source": [
    "from sklearn.model_selection import train_test_split\n",
    "X_train, X_test, y_train, y_test = train_test_split(X, y, test_size=0.33, random_state=42)"
   ],
   "metadata": {
    "collapsed": false,
    "pycharm": {
     "name": "#%%\n"
    }
   }
  },
  {
   "cell_type": "code",
   "execution_count": null,
   "metadata": {},
   "outputs": [],
   "source": []
  }
 ],
 "metadata": {
  "kernelspec": {
   "display_name": "Python 3",
   "language": "python",
   "name": "python3"
  },
  "language_info": {
   "codemirror_mode": {
    "name": "ipython",
    "version": 3
   },
   "file_extension": ".py",
   "mimetype": "text/x-python",
   "name": "python",
   "nbconvert_exporter": "python",
   "pygments_lexer": "ipython3",
   "version": "3.7.6"
  }
 },
 "nbformat": 4,
 "nbformat_minor": 4
}